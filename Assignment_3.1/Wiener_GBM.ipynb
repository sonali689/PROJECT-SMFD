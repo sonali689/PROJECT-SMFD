{
 "cells": [
  {
   "cell_type": "markdown",
   "id": "1e621cd2",
   "metadata": {},
   "source": [
    "# Wiener Process and Geometric Brownian Motion"
   ]
  },
  {
   "cell_type": "markdown",
   "id": "e8a2b635",
   "metadata": {},
   "source": [
    "## Question 1: Simulate a Single Path of a Wiener Process\n",
    "\n",
    "Discretize \\([0, T]\\) into \\(N\\) steps of size \\(\\Delta t = T/N\\).  \n",
    "Increment distribution:\n",
    "\n",
    "\\[\n",
    "W_{t_{i+1}} - W_{t_i} \\sim N(0, \\Delta t).\n",
    "\\]\n"
   ]
  },
  {
   "cell_type": "code",
   "execution_count": null,
   "id": "55b648e6",
   "metadata": {},
   "outputs": [],
   "source": [
    "import numpy as np\n",
    "import matplotlib.pyplot as plt\n",
    "\n",
    "# Parameters\n",
    "T = 1.0\n",
    "N = 1000\n",
    "dt = T / N\n",
    "\n",
    "# Time grid and increments\n",
    "t = np.linspace(0, T, N+1)\n",
    "dW = np.random.normal(0, np.sqrt(dt), size=N)\n",
    "\n",
    "# Construct path\n",
    "W = np.empty(N+1)\n",
    "W[0] = 0\n",
    "W[1:] = np.cumsum(dW)\n",
    "\n",
    "# Plot\n",
    "plt.figure(figsize=(8,4))\n",
    "plt.plot(t, W)\n",
    "plt.title(\"Single Wiener Process Path\")\n",
    "plt.xlabel(\"t\")\n",
    "plt.ylabel(\"W(t)\")\n",
    "plt.grid(True)\n",
    "plt.show()\n"
   ]
  },
  {
   "cell_type": "markdown",
   "id": "48800bad",
   "metadata": {},
   "source": [
    "## Question 2: Simulate 5 Paths of Geometric Brownian Motion\n",
    "\n",
    "\\[\n",
    "S(t) = S(0) \\exp\\bigl(σW(t) + (α - \\tfrac12σ^2)t\\bigr).\n",
    "\\]\n"
   ]
  },
  {
   "cell_type": "code",
   "execution_count": null,
   "id": "df76c85c",
   "metadata": {},
   "outputs": [],
   "source": [
    "# Parameters\n",
    "S0 = 100\n",
    "alpha = 0.05\n",
    "sigma = 0.2\n",
    "paths = 5\n",
    "\n",
    "plt.figure(figsize=(8,4))\n",
    "for i in range(paths):\n",
    "    dW = np.random.normal(0, np.sqrt(dt), size=N)\n",
    "    W = np.cumsum(dW)\n",
    "    t_short = np.linspace(0, T, N)\n",
    "    S = S0 * np.exp(sigma * W + (alpha - 0.5*sigma**2)*t_short)\n",
    "    plt.plot(t_short, S, label=f\"Path {i+1}\")\n",
    "\n",
    "plt.title(\"Geometric Brownian Motion Paths\")\n",
    "plt.xlabel(\"t\")\n",
    "plt.ylabel(\"S(t)\")\n",
    "plt.legend()\n",
    "plt.grid(True)\n",
    "plt.show()\n"
   ]
  },
  {
   "cell_type": "markdown",
   "id": "3e67d07a",
   "metadata": {},
   "source": [
    "## Question 3: Covariance \\(E[W_s W_t] = \\min(s,t)\\)\n",
    "\n",
    "**Theoretical derivation:**\n",
    "\n",
    "1. For \\(s \\le t\\), write\n",
    "   \\[\n",
    "   W_t = W_s + (W_t - W_s).\n",
    "   \\]\n",
    "   Independence of increments gives\n",
    "   \\[\n",
    "   E[W_s(W_t - W_s)] = E[W_s]E[W_t - W_s] = 0,\n",
    "   \\]\n",
    "   so\n",
    "   \\[\n",
    "   E[W_s W_t] = E[W_s^2] = \\operatorname{Var}(W_s) = s.\n",
    "   \\]\n",
    "2. If \\(t < s\\), swap roles.\n",
    "\n",
    "Thus \\(E[W_s W_t] = \\min(s,t)\\).\n"
   ]
  },
  {
   "cell_type": "code",
   "execution_count": null,
   "id": "3a0c6a7c",
   "metadata": {},
   "outputs": [],
   "source": [
    "import numpy as np\n",
    "\n",
    "# Simulation parameters\n",
    "M = 20000  # number of paths\n",
    "s, t = 0.3, 0.7\n",
    "s_idx = int(s * N)\n",
    "t_idx = int(t * N)\n",
    "\n",
    "# Simulate M paths\n",
    "dW_all = np.random.normal(0, np.sqrt(dt), size=(M, N))\n",
    "W_all = np.hstack([np.zeros((M,1)), np.cumsum(dW_all, axis=1)])\n",
    "\n",
    "empirical = np.mean(W_all[:,s_idx] * W_all[:,t_idx])\n",
    "theoretical = min(s, t)\n",
    "\n",
    "print(f\"Empirical E[W_s W_t] = {empirical:.4f}, Theoretical = {theoretical:.4f}\")\n"
   ]
  },
  {
   "cell_type": "markdown",
   "id": "aa590a82",
   "metadata": {},
   "source": [
    "## Question 4: Increment Distribution and Independence\n",
    "\n",
    "1. **Distribution**  \n",
    "   By stationary increments:  \n",
    "   \\[\n",
    "     W_t - W_s \\sim N(0, t-s).\n",
    "   \\]\n",
    "2. **Independence**  \n",
    "   Increments over disjoint intervals are independent by definition.\n",
    "\n",
    "**Empirical checks:**  \n",
    "- mean & variance of \\(W_t-W_s\\).  \n",
    "- correlation between \\(W_t-W_s\\) and a separate increment \\(W_s-W_0\\).\n"
   ]
  },
  {
   "cell_type": "code",
   "execution_count": null,
   "id": "606feb04",
   "metadata": {},
   "outputs": [],
   "source": [
    "# Empirical mean & variance\n",
    "increments = W_all[:,t_idx] - W_all[:,s_idx]\n",
    "print(\"Mean:\", np.mean(increments))\n",
    "print(\"Variance:\", np.var(increments), \"vs t-s =\", t-s)\n",
    "\n",
    "# Independence check (correlation)\n",
    "inc1 = W_all[:,s_idx] - W_all[:,0]\n",
    "inc2 = increments\n",
    "print(\"Correlation (disjoint increments):\", np.corrcoef(inc1, inc2)[0,1])\n"
   ]
  },
  {
   "cell_type": "markdown",
   "id": "5d479c8d",
   "metadata": {},
   "source": [
    "## Question 5: Martingale Property\n",
    "\n",
    "**Theory:**  \n",
    "For \\(0\\le s\\le t\\),\n",
    "\\[\n",
    "E[W_t \\mid \\mathcal{F}_s] \n",
    "= E[W_s + (W_t - W_s) \\mid \\mathcal{F}_s]\n",
    "= W_s + 0 = W_s.\n",
    "\\]\n",
    "Thus \\((W_t)\\) is a martingale.\n",
    "\n",
    "- Regress \\(W_t\\) on \\(W_s\\): slope ≈ 1, intercept ≈ 0.  \n",
    "- Compute binned conditional means \\(E[W_t \\mid W_s]\\) vs. \\(W_s\\).\n"
   ]
  },
  {
   "cell_type": "code",
   "execution_count": null,
   "id": "674447d1",
   "metadata": {},
   "outputs": [],
   "source": [
    "import numpy as np\n",
    "import matplotlib.pyplot as plt\n",
    "\n",
    "# Regression\n",
    "x, y = W_all[:,s_idx], W_all[:,t_idx]\n",
    "slope, intercept = np.polyfit(x, y, 1)\n",
    "print(\"Regression slope:\", slope, \"intercept:\", intercept)\n",
    "\n",
    "# Binned conditional means\n",
    "bins = np.linspace(-3*np.sqrt(s), 3*np.sqrt(s), 10)\n",
    "digitized = np.digitize(x, bins)\n",
    "bin_centers = 0.5*(bins[:-1] + bins[1:])\n",
    "cond_means = [np.mean(y[digitized==i]) for i in range(1,len(bins))]\n",
    "\n",
    "# Plot\n",
    "plt.figure(figsize=(6,4))\n",
    "plt.plot(bin_centers, cond_means, 'o-', label='Empirical')\n",
    "plt.plot(bin_centers, bin_centers, '--', label='y=x')\n",
    "plt.xlabel('W_s')\n",
    "plt.ylabel('E[W_t | W_s]')\n",
    "plt.legend()\n",
    "plt.grid(True)\n",
    "plt.show()\n"
   ]
  }
 ],
 "metadata": {
  "kernelspec": {
   "display_name": "Python 3 (ipykernel)",
   "language": "python",
   "name": "python3"
  },
  "language_info": {
   "codemirror_mode": {
    "name": "ipython",
    "version": 3
   },
   "file_extension": ".py",
   "mimetype": "text/x-python",
   "name": "python",
   "nbconvert_exporter": "python",
   "pygments_lexer": "ipython3",
   "version": "3.11.5"
  }
 },
 "nbformat": 4,
 "nbformat_minor": 5
}
